{
 "metadata": {
  "language_info": {
   "codemirror_mode": {
    "name": "ipython",
    "version": 3
   },
   "file_extension": ".py",
   "mimetype": "text/x-python",
   "name": "python",
   "nbconvert_exporter": "python",
   "pygments_lexer": "ipython3",
   "version": "3.8.5"
  },
  "orig_nbformat": 2,
  "kernelspec": {
   "name": "python385jvsc74a57bd046775b9b446a161ace03e4dadd799b231da71d5832ae2090ad5a6ad527cc03be",
   "display_name": "Python 3.8.5 64-bit ('stock_market_index_daily_direction': pipenv)"
  }
 },
 "nbformat": 4,
 "nbformat_minor": 2,
 "cells": [
  {
   "cell_type": "code",
   "execution_count": 4,
   "metadata": {},
   "outputs": [],
   "source": [
    "import matplotlib.pyplot as plt\n",
    "import pandas as pd\n",
    "import yfinance as yf"
   ]
  },
  {
   "source": [
    "Market indexes:\n",
    "\n",
    "|Country|Index|Ticker|\n",
    "|---        |---        |---        |\n",
    "|Brazil|iBovespa||\n",
    "|USA|Nasdaq Composite||\n",
    "|USA|NYSE Composite||\n",
    "|USA|Dow Jones||\n",
    "|Argentina|Merval||\n",
    "|Japan|Nikkei 225||\n",
    "|China|Shangai Composite||\n",
    "|China|Hang Seng||\n",
    "|India|BSE 30 Sensex||\n",
    "|UK|UKSE 100||\n",
    "|Sweden|Stockholm General||\n",
    "|Germany|Dax||\n",
    "|France|Cac 40||"
   ],
   "cell_type": "markdown",
   "metadata": {}
  },
  {
   "cell_type": "code",
   "execution_count": null,
   "metadata": {},
   "outputs": [],
   "source": []
  }
 ]
}