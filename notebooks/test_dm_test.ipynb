{
 "metadata": {
  "language_info": {
   "codemirror_mode": {
    "name": "ipython",
    "version": 3
   },
   "file_extension": ".py",
   "mimetype": "text/x-python",
   "name": "python",
   "nbconvert_exporter": "python",
   "pygments_lexer": "ipython3",
   "version": "3.8.5"
  },
  "orig_nbformat": 4,
  "kernelspec": {
   "name": "python3",
   "display_name": "Python 3.8.5 64-bit ('.venv': pipenv)"
  },
  "interpreter": {
   "hash": "589b64e24c274c4d01b5f257ed4999161cecd9e09452ea089ca03c764e8f7ad2"
  }
 },
 "nbformat": 4,
 "nbformat_minor": 2,
 "cells": [
  {
   "cell_type": "code",
   "execution_count": 12,
   "metadata": {},
   "outputs": [],
   "source": [
    "import random\n",
    "\n",
    "os.chdir('../')\n",
    "from src.features.build_features import (\n",
    "    daily_return, uniform_clustering, create_shifted_rt, downloading_stocks_data, return_in_period, binary_clustering)\n",
    "from src.evaluation.dm_test import dm_test\n",
    "from src.evaluation.easymetrics import diebold_mariano_test\n",
    "from src.evaluation.easymetrics import r2_all\n",
    "from src.evaluation.easymetrics import evs_all\n",
    "from src.evaluation.easymetrics import mae_all\n",
    "from src.evaluation.easymetrics import rmse_all\n",
    "from src.evaluation.easymetrics import rmsle_all\n",
    "os.chdir('./notebooks')"
   ]
  },
  {
   "cell_type": "code",
   "execution_count": 8,
   "metadata": {},
   "outputs": [],
   "source": [
    "actual_lst = range(0,100)\n",
    "pred1_lst = range(0,100)\n",
    "pred2_lst = range(0,100)"
   ]
  },
  {
   "cell_type": "code",
   "execution_count": 9,
   "metadata": {},
   "outputs": [],
   "source": [
    "random.seed(123)\n",
    "actual_lst = random.sample(actual_lst,100)\n",
    "pred1_lst = random.sample(pred1_lst,100)\n",
    "pred2_lst = random.sample(pred2_lst,100)"
   ]
  },
  {
   "cell_type": "code",
   "execution_count": 10,
   "metadata": {},
   "outputs": [
    {
     "output_type": "stream",
     "name": "stdout",
     "text": [
      "dm_return(DM=0.7156156473441304, p_value=0.4759131435790399)\ndm_return(DM=0.8149537766612477, p_value=0.4170549576990228)\ndm_return(DM=0.6542582453666764, p_value=0.5144624594094003)\n"
     ]
    }
   ],
   "source": [
    "\n",
    "rt = dm_test(actual_lst,pred1_lst,pred2_lst,h = 1, crit=\"MAD\")\n",
    "print(rt)\n",
    "rt2 = dm_test(actual_lst,pred1_lst,pred2_lst,h = 1, crit=\"MSE\")\n",
    "print(rt2)\n",
    "rt3 = dm_test(actual_lst,pred1_lst,pred2_lst,h = 1, crit=\"poly\", power=4)\n",
    "print(rt3)\n"
   ]
  },
  {
   "cell_type": "code",
   "execution_count": 11,
   "metadata": {},
   "outputs": [
    {
     "output_type": "stream",
     "name": "stdout",
     "text": [
      "dm_return(DM=0.7156156473441304, p_value=0.4759131435790399)\ndm_return(DM=0.8149537766612477, p_value=0.4170549576990228)\ndm_return(DM=0.6542582453666764, p_value=0.5144624594094003)\n"
     ]
    }
   ],
   "source": [
    "rt = diebold_mariano_test(actual_lst,pred1_lst,pred2_lst,h = 1, crit=\"MAD\")\n",
    "print(rt)\n",
    "rt2 = diebold_mariano_test(actual_lst,pred1_lst,pred2_lst,h = 1, crit=\"MSE\")\n",
    "print(rt2)\n",
    "rt3 = diebold_mariano_test(actual_lst,pred1_lst,pred2_lst,h = 1, crit=\"poly\", power=4)\n",
    "print(rt3)"
   ]
  },
  {
   "cell_type": "code",
   "execution_count": null,
   "metadata": {},
   "outputs": [],
   "source": []
  }
 ]
}