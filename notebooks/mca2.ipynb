{
 "metadata": {
  "language_info": {
   "codemirror_mode": {
    "name": "ipython",
    "version": 3
   },
   "file_extension": ".py",
   "mimetype": "text/x-python",
   "name": "python",
   "nbconvert_exporter": "python",
   "pygments_lexer": "ipython3",
   "version": "3.8.5"
  },
  "orig_nbformat": 4,
  "kernelspec": {
   "name": "python3",
   "display_name": "Python 3.8.5 64-bit ('.venv': pipenv)"
  },
  "interpreter": {
   "hash": "589b64e24c274c4d01b5f257ed4999161cecd9e09452ea089ca03c764e8f7ad2"
  }
 },
 "nbformat": 4,
 "nbformat_minor": 2,
 "cells": [
  {
   "cell_type": "code",
   "execution_count": 2,
   "metadata": {},
   "outputs": [],
   "source": [
    "import matplotlib.pyplot as plt\n",
    "import numpy as np\n",
    "import pandas as pd\n",
    "from sklearn import utils\n",
    "\n",
    "from prince import ca\n",
    "from prince import plot"
   ]
  },
  {
   "cell_type": "code",
   "execution_count": 6,
   "metadata": {},
   "outputs": [],
   "source": [
    "\n",
    "    def fit(self, X, y=None):\n",
    "\n",
    "        if self.check_input:\n",
    "            utils.check_array(X, dtype=[str, np.number])\n",
    "\n",
    "        if not isinstance(X, pd.DataFrame):\n",
    "            X = pd.DataFrame(X)\n",
    "\n",
    "        n_initial_columns = X.shape[1]\n",
    "\n",
    "        # One-hot encode the data\n",
    "        one_hot = pd.get_dummies(X)\n",
    "\n",
    "        # Apply CA to the indicator matrix\n",
    "        super().fit(one_hot)\n",
    "\n",
    "        # Compute the total inertia\n",
    "        n_new_columns = one_hot.shape[1]\n",
    "        self.total_inertia_ = (n_new_columns - n_initial_columns) / n_initial_columns\n",
    "\n",
    "        return self\n",
    "\n",
    "    def row_coordinates(self, X):\n",
    "        if not isinstance(X, pd.DataFrame):\n",
    "            X = pd.DataFrame(X)\n",
    "        return super().row_coordinates(pd.get_dummies(X))\n",
    "\n",
    "    def column_coordinates(self, X):\n",
    "        if not isinstance(X, pd.DataFrame):\n",
    "            X = pd.DataFrame(X)\n",
    "        return super().column_coordinates(pd.get_dummies(X))\n",
    "\n",
    "    def transform(self, X):\n",
    "        \"\"\"Computes the row principal coordinates of a dataset.\"\"\"\n",
    "        self._check_is_fitted()\n",
    "        if self.check_input:\n",
    "            utils.check_array(X, dtype=[str, np.number])\n",
    "        return self.row_coordinates(X)\n",
    "\n",
    "    def plot_coordinates(self, X, ax=None, figsize=(6, 6), x_component=0, y_component=1,\n",
    "                         show_row_points=True, row_points_size=10,\n",
    "                         row_points_alpha=0.6, show_row_labels=False,\n",
    "                         show_column_points=True, column_points_size=30, show_column_labels=False,\n",
    "                         legend_n_cols=1):\n",
    "        \"\"\"Plot row and column principal coordinates.\n",
    "        Parameters:\n",
    "            ax (matplotlib.Axis): A fresh one will be created and returned if not provided.\n",
    "            figsize ((float, float)): The desired figure size if `ax` is not provided.\n",
    "            x_component (int): Number of the component used for the x-axis.\n",
    "            y_component (int): Number of the component used for the y-axis.\n",
    "            show_row_points (bool): Whether to show row principal components or not.\n",
    "            row_points_size (float): Row principal components point size.\n",
    "            row_points_alpha (float): Alpha for the row principal component.\n",
    "            show_row_labels (bool): Whether to show row labels or not.\n",
    "            show_column_points (bool): Whether to show column principal components or not.\n",
    "            column_points_size (float): Column principal components point size.\n",
    "            show_column_labels (bool): Whether to show column labels or not.\n",
    "            legend_n_cols (int): Number of columns used for the legend.\n",
    "        Returns:\n",
    "            matplotlib.Axis\n",
    "        \"\"\"\n",
    "\n",
    "        self._check_is_fitted()\n",
    "\n",
    "        if ax is None:\n",
    "            fig, ax = plt.subplots(figsize=figsize)\n",
    "\n",
    "        # Add style\n",
    "        ax = plot.stylize_axis(ax)\n",
    "\n",
    "        # Plot row principal coordinates\n",
    "        if show_row_points or show_row_labels:\n",
    "\n",
    "            row_coords = self.row_coordinates(X)\n",
    "\n",
    "            if show_row_points:\n",
    "                ax.scatter(\n",
    "                    row_coords.iloc[:, x_component],\n",
    "                    row_coords.iloc[:, y_component],\n",
    "                    s=row_points_size,\n",
    "                    label=None,\n",
    "                    color=plot.GRAY['dark'],\n",
    "                    alpha=row_points_alpha\n",
    "                )\n",
    "\n",
    "            if show_row_labels:\n",
    "                for _, row in row_coords.iterrows():\n",
    "                    ax.annotate(row.name, (row[x_component], row[y_component]))\n",
    "\n",
    "        # Plot column principal coordinates\n",
    "        if show_column_points or show_column_labels:\n",
    "\n",
    "            col_coords = self.column_coordinates(X)\n",
    "            x = col_coords[x_component]\n",
    "            y = col_coords[y_component]\n",
    "\n",
    "            prefixes = col_coords.index.str.split('_').map(lambda x: x[0])\n",
    "\n",
    "            for prefix in prefixes.unique():\n",
    "                mask = prefixes == prefix\n",
    "\n",
    "                if show_column_points:\n",
    "                    ax.scatter(x[mask], y[mask], s=column_points_size, label=prefix)\n",
    "\n",
    "                if show_column_labels:\n",
    "                    for i, label in enumerate(col_coords[mask].index):\n",
    "                        ax.annotate(label, (x[mask][i], y[mask][i]))\n",
    "\n",
    "            ax.legend(ncol=legend_n_cols)\n",
    "\n",
    "        # Text\n",
    "        ax.set_title('Row and column principal coordinates')\n",
    "        ei = self.explained_inertia_\n",
    "        ax.set_xlabel('Component {} ({:.2f}% inertia)'.format(x_component, 100 * ei[x_component]))\n",
    "        ax.set_ylabel('Component {} ({:.2f}% inertia)'.format(y_component, 100 * ei[y_component]))\n",
    "\n",
    "        return ax"
   ]
  },
  {
   "cell_type": "code",
   "execution_count": 4,
   "metadata": {},
   "outputs": [
    {
     "output_type": "stream",
     "name": "stdout",
     "text": [
      "  Perfil de Investidor Tipo de Aplicação Financeira Estado Civil\n0          Conservador                     Poupança       Casado\n1          Conservador                     Poupança       Casado\n2          Conservador                     Poupança       Casado\n3          Conservador                     Poupança     Solteiro\n4          Conservador                     Poupança       Casado\n"
     ]
    }
   ],
   "source": [
    "MCA# X = pd.read_csv('https://archive.ics.uci.edu/ml/machine-learning-databases/balloons/adult+stretch.data')\n",
    "# X.columns = ['Color', 'Size', 'Action', 'Age', 'Inflated']\n",
    "\n",
    "df = pd.read_csv('Perfil_Investidor x Aplicação_mca.csv', sep=';')\n",
    "df1 = df.drop(['Estudante'], axis=1)\n",
    "\n",
    "print(df1.head())"
   ]
  },
  {
   "cell_type": "code",
   "execution_count": 8,
   "metadata": {},
   "outputs": [
    {
     "output_type": "error",
     "ename": "TypeError",
     "evalue": "fit() missing 1 required positional argument: 'X'",
     "traceback": [
      "\u001b[0;31m---------------------------------------------------------------------------\u001b[0m",
      "\u001b[0;31mTypeError\u001b[0m                                 Traceback (most recent call last)",
      "\u001b[0;32m<ipython-input-8-4ea0e8cbda0f>\u001b[0m in \u001b[0;36m<module>\u001b[0;34m\u001b[0m\n\u001b[0;32m----> 1\u001b[0;31m \u001b[0mfit\u001b[0m\u001b[0;34m(\u001b[0m\u001b[0mdf1\u001b[0m\u001b[0;34m)\u001b[0m\u001b[0;34m\u001b[0m\u001b[0;34m\u001b[0m\u001b[0m\n\u001b[0m",
      "\u001b[0;31mTypeError\u001b[0m: fit() missing 1 required positional argument: 'X'"
     ]
    }
   ],
   "source": [
    "fit(self,d)"
   ]
  },
  {
   "cell_type": "code",
   "execution_count": null,
   "metadata": {},
   "outputs": [],
   "source": []
  }
 ]
}